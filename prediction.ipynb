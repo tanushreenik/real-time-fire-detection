{
 "cells": [
  {
   "cell_type": "markdown",
   "metadata": {
    "colab_type": "text",
    "id": "Qa3WVIkdEG6x"
   },
   "source": [
    "# MobileNet"
   ]
  },
  {
   "cell_type": "markdown",
   "metadata": {
    "colab_type": "text",
    "id": "HBO4Y7wumMHm"
   },
   "source": []
  },
  {
   "cell_type": "code",
   "execution_count": null,
   "metadata": {},
   "outputs": [],
   "source": [
    "# only if you're running on colab and want the model to be downloaded\n",
    "!git clone https://github.com/kshubham506/fire_detection.git"
   ]
  },
  {
   "cell_type": "code",
   "execution_count": null,
   "metadata": {},
   "outputs": [
    {
     "ename": "",
     "evalue": "",
     "output_type": "error",
     "traceback": [
      "\u001b[1;31mRunning cells with 'Python 3.11.6' requires the ipykernel package.\n",
      "\u001b[1;31m<a href='command:jupyter.createPythonEnvAndSelectController'>Create a Python Environment</a> with the required packages.\n",
      "\u001b[1;31mOr install 'ipykernel' using the command: 'c:/Users/kshub/AppData/Local/Programs/Python/Python311/python.exe -m pip install ipykernel -U --user --force-reinstall'"
     ]
    }
   ],
   "source": [
    "!pip install keras tensorflow numpy "
   ]
  },
  {
   "cell_type": "code",
   "execution_count": null,
   "metadata": {
    "colab": {},
    "colab_type": "code",
    "id": "BJd9xLIsEG6z",
    "scrolled": true
   },
   "outputs": [],
   "source": [
    "import numpy as np\n",
    "import keras\n",
    "from keras import backend as K\n",
    "from keras.layers import Dense, Activation\n",
    "from keras.optimizers import Adam\n",
    "from keras.metrics import categorical_crossentropy\n",
    "from tensorflow.keras.preprocessing.image import ImageDataGenerator\n",
    "from keras.preprocessing import image\n",
    "from keras.models import Model\n",
    "from keras.applications import imagenet_utils\n",
    "import h5py\n",
    "from keras.callbacks import ModelCheckpoint, ReduceLROnPlateau,History\n",
    "#from sklearn.metrics import confusion_matrix\n",
    "#for broken data stream error\n",
    "from PIL import Image, ImageFile\n",
    "ImageFile.LOAD_TRUNCATED_IMAGES = True\n",
    "import itertools\n",
    "#for broken data stream error\n",
    "from PIL import Image, ImageFile\n",
    "ImageFile.LOAD_TRUNCATED_IMAGES = True\n",
    "#import matplotlib.pyplot as plt\n",
    "#%matplotlib inline"
   ]
  },
  {
   "cell_type": "code",
   "execution_count": 0,
   "metadata": {
    "cellView": "both",
    "colab": {},
    "colab_type": "code",
    "id": "NFrgXB8PzowC",
    "outputId": "4b87b3fc-a622-4c80-c999-67ba25aabd22"
   },
   "outputs": [],
   "source": [
    "#@title\n",
    "keras.__version__"
   ]
  },
  {
   "cell_type": "markdown",
   "metadata": {},
   "source": [
    "##Predictions"
   ]
  },
  {
   "cell_type": "code",
   "execution_count": 0,
   "metadata": {
    "colab": {},
    "colab_type": "code",
    "id": "MGIfj850UOl5",
    "outputId": "2c8b81b6-392a-49b9-9e58-ec8925da7a63"
   },
   "outputs": [],
   "source": [
    "from tensorflow.keras.models import load_model\n",
    "from tensorflow.keras.optimizers import Adam\n",
    "\n",
    "# Load without compiling to avoid the 'lr' error\n",
    "# the below one is if running on colab and want the model to be downloaded\n",
    "model = load_model('fire_detection/saved_model/raks_model14.h5', compile=False)\n",
    "# model = load_model('saved_model/raks_model14.h5', compile=False)\n",
    "\n",
    "# Then compile manually with the correct arguments\n",
    "optimizer = Adam(learning_rate=1e-5)  # Or any value you need\n",
    "model.compile(optimizer=optimizer, loss='categorical_crossentropy', metrics=['accuracy'])\n"
   ]
  },
  {
   "cell_type": "code",
   "execution_count": 0,
   "metadata": {
    "colab": {},
    "colab_type": "code",
    "id": "N5eHHEw1Vc-v"
   },
   "outputs": [],
   "source": [
    "def prepare_image(file):\n",
    "    img_path = ''\n",
    "    img = image.load_img(img_path + file, target_size=(224, 224))\n",
    "    img_array = image.img_to_array(img)\n",
    "    img_array_expanded_dims = np.expand_dims(img_array, axis=0)\n",
    "    return keras.applications.mobilenet.preprocess_input(img_array_expanded_dims)"
   ]
  },
  {
   "cell_type": "code",
   "execution_count": 0,
   "metadata": {
    "colab": {},
    "colab_type": "code",
    "id": "fU1jfrWDJLuZ"
   },
   "outputs": [],
   "source": [
    "from IPython.display import Image\n",
    "# the below one is if running on colab and want the model to be downloaded\n",
    "Image(filename='fire_detection/images/house_fire.jpg', width=300,height=200) \n",
    "# Image(filename='images/house_fire.jpg', width=300,height=200) "
   ]
  },
  {
   "cell_type": "code",
   "execution_count": null,
   "metadata": {
    "colab": {
     "base_uri": "https://localhost:8080/",
     "height": 217
    },
    "colab_type": "code",
    "executionInfo": {
     "elapsed": 7067,
     "status": "ok",
     "timestamp": 1553007247609,
     "user": {
      "displayName": "Sagarika Kadam",
      "photoUrl": "https://lh5.googleusercontent.com/-Bkn9Z8a4Vvs/AAAAAAAAAAI/AAAAAAAAABk/A6mW79YgefY/s64/photo.jpg",
      "userId": "12766262356021663619"
     },
     "user_tz": -330
    },
    "id": "oWyJGvHIJL9H",
    "outputId": "6d9ba13e-9e18-45a1-d1c7-3b4a3013bd23"
   },
   "outputs": [
    {
     "ename": "",
     "evalue": "",
     "output_type": "error",
     "traceback": [
      "\u001b[1;31mRunning cells with 'Python 3.11.6' requires the ipykernel package.\n",
      "\u001b[1;31m<a href='command:jupyter.createPythonEnvAndSelectController'>Create a Python Environment</a> with the required packages.\n",
      "\u001b[1;31mOr install 'ipykernel' using the command: 'c:/Users/kshub/AppData/Local/Programs/Python/Python311/python.exe -m pip install ipykernel -U --user --force-reinstall'"
     ]
    }
   ],
   "source": [
    "# put the image location that you want to test\n",
    "preprocessed_image = prepare_image('fire_detection/images/house_fire.jpg')\n",
    "predictions = model.predict(preprocessed_image)\n",
    "print(\"Fire :\",str(predictions[0][0]*100)[:4] + \"%\",\" |Not Fire:\",str(predictions[0][1]*100)[:4]+\"%\")\n",
    "labels=(predictions>0.5).astype(int)\n",
    "#print(labels)\n",
    "if labels[0][0]==1 :\n",
    "    print(\"Fire detected\")\n",
    "else:\n",
    "    print(\"No Fire detected\")\n",
    "\n",
    "#results = imagenet_utils.decode_predictions(predictions)\n",
    "#results"
   ]
  }
 ],
 "metadata": {
  "accelerator": "GPU",
  "colab": {
   "collapsed_sections": [],
   "name": "prediction.ipynb",
   "provenance": [
    {
     "file_id": "1u0rxtF7EI0Tf9TViFZFBtVzVTivNKCKt",
     "timestamp": 1546829984751
    },
    {
     "file_id": "19J31BBaPf7Fe4dFUDs89hsBT33DvB9Uc",
     "timestamp": 1546771141822
    }
   ],
   "toc_visible": true,
   "version": "0.3.2"
  },
  "kernelspec": {
   "display_name": "Python 3",
   "language": "python",
   "name": "python3"
  },
  "language_info": {
   "codemirror_mode": {
    "name": "ipython",
    "version": 3
   },
   "file_extension": ".py",
   "mimetype": "text/x-python",
   "name": "python",
   "nbconvert_exporter": "python",
   "pygments_lexer": "ipython3",
   "version": "3.11.6"
  }
 },
 "nbformat": 4,
 "nbformat_minor": 0
}
